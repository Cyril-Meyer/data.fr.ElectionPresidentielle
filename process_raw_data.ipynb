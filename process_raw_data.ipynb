{
 "cells": [
  {
   "cell_type": "code",
   "execution_count": null,
   "id": "c69d0481-e017-4c1a-a7f2-67147b26dea8",
   "metadata": {},
   "outputs": [],
   "source": [
    "import pandas as pd"
   ]
  },
  {
   "cell_type": "code",
   "execution_count": null,
   "id": "75dfb7b5-fa2f-452c-a575-8aa361075902",
   "metadata": {},
   "outputs": [],
   "source": [
    "y = 1995\n",
    "f1 = f'raw/{y}/fe63b06a003718b550b0abd667bdf49846b37fb21203c1abe7a9cc8895e3cc.xls'\n",
    "data_df_1995_t1 = pd.read_excel(f1, sheet_name='Départements T1')\n",
    "data_df_1995_t2 = pd.read_excel(f1, sheet_name='Départements T2')\n",
    "\n",
    "data_df_1995_t1.to_csv(f'{y}/tour_1.csv', index=False)\n",
    "data_df_1995_t2.to_csv(f'{y}/tour_2.csv', index=False)"
   ]
  },
  {
   "cell_type": "code",
   "execution_count": null,
   "id": "51971c9f-5a4c-40db-97ed-0142aab5857d",
   "metadata": {},
   "outputs": [],
   "source": [
    "y = 2002\n",
    "f1 = f'raw/{y}/ca642c03c03b775fa08c48d200702048e9c68631e6851ffa34014af8195991.xls'\n",
    "data_df_2002_t1 = pd.read_excel(f1, sheet_name='Départements T1')\n",
    "data_df_2002_t2 = pd.read_excel(f1, sheet_name='Départements T2')\n",
    "\n",
    "data_df_2002_t1.to_csv(f'{y}/tour_1.csv', index=False)\n",
    "data_df_2002_t2.to_csv(f'{y}/tour_2.csv', index=False)"
   ]
  },
  {
   "cell_type": "code",
   "execution_count": null,
   "id": "c7df18f7-b6de-406e-866f-9446644a3779",
   "metadata": {},
   "outputs": [],
   "source": [
    "y = 2007\n",
    "f1 = f'raw/{y}/b5de8c5118fab4c029f7289c6a46fcf3ebfa0936d93d43805a734479294899.xls'\n",
    "data_df_2007_t1 = pd.read_excel(f1, sheet_name='Départements T1')\n",
    "data_df_2007_t2 = pd.read_excel(f1, sheet_name='Départements T2')\n",
    "\n",
    "data_df_2007_t1.to_csv(f'{y}/tour_1.csv', index=False)\n",
    "data_df_2007_t2.to_csv(f'{y}/tour_2.csv', index=False)"
   ]
  },
  {
   "cell_type": "code",
   "execution_count": null,
   "id": "6eb93a06-3f53-4a55-8318-59470e0582b5",
   "metadata": {},
   "outputs": [],
   "source": [
    "y = 2012\n",
    "f1 = f'raw/{y}/e9c9483d39e00030815089aca1e2939f9cb99a84b0136e43056790e47bb4f0.xls'\n",
    "data_df_2012_t1 = pd.read_excel(f1, sheet_name='Départements T1')\n",
    "data_df_2012_t2 = pd.read_excel(f1, sheet_name='Départements T2')\n",
    "\n",
    "data_df_2012_t1.to_csv(f'{y}/tour_1.csv', index=False)\n",
    "data_df_2012_t2.to_csv(f'{y}/tour_2.csv', index=False)"
   ]
  },
  {
   "cell_type": "code",
   "execution_count": null,
   "id": "44293c0f-61cb-42cb-9652-9fe995600663",
   "metadata": {},
   "outputs": [],
   "source": [
    "y = 2017\n",
    "f1 = f'raw/{y}/Presidentielle_2017_Resultats_Tour_1_c.xls'\n",
    "f2 = f'raw/{y}/Presidentielle_2017_Resultats_Tour_2_c.xls'\n",
    "data_df_2017_t1 = pd.read_excel(f1, sheet_name='Départements Tour 1', header=3)\n",
    "data_df_2017_t2 = pd.read_excel(f2, sheet_name='Départements Tour 2', header=3)\n",
    "\n",
    "data_df_2017_t1.to_csv(f'{y}/tour_1.csv', index=False)\n",
    "data_df_2017_t2.to_csv(f'{y}/tour_2.csv', index=False)"
   ]
  },
  {
   "cell_type": "code",
   "execution_count": null,
   "id": "d25f3a7f-cb9d-469a-ba9b-d36d6a57eaa2",
   "metadata": {},
   "outputs": [],
   "source": [
    "y = 2022\n",
    "f1 = f'raw/{y}/resultats-par-niveau-dpt-t1-france-entiere.xlsx'\n",
    "data_df_2022_t1 = pd.read_excel(f1, sheet_name='Résultats par niveau Dpt T1 Fra')\n",
    "\n",
    "data_df_2022_t1.to_csv(f'{y}/tour_1.csv', index=False)"
   ]
  },
  {
   "cell_type": "code",
   "execution_count": null,
   "id": "ecff99e8-22fe-4df1-a203-a11a07029aa1",
   "metadata": {},
   "outputs": [],
   "source": []
  }
 ],
 "metadata": {
  "kernelspec": {
   "display_name": "Python 3 (ipykernel)",
   "language": "python",
   "name": "python3"
  },
  "language_info": {
   "codemirror_mode": {
    "name": "ipython",
    "version": 3
   },
   "file_extension": ".py",
   "mimetype": "text/x-python",
   "name": "python",
   "nbconvert_exporter": "python",
   "pygments_lexer": "ipython3",
   "version": "3.7.9"
  }
 },
 "nbformat": 4,
 "nbformat_minor": 5
}
